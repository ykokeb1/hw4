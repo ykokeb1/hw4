{
  "nbformat": 4,
  "nbformat_minor": 0,
  "metadata": {
    "colab": {
      "provenance": [],
      "collapsed_sections": []
    },
    "kernelspec": {
      "name": "python3",
      "display_name": "Python 3"
    },
    "language_info": {
      "name": "python"
    }
  },
  "cells": [
    {
      "cell_type": "markdown",
      "source": [
        "# **Homework 4 Due on Monday November 14 23h59**\n"
      ],
      "metadata": {
        "id": "06AqnZTuOQgl"
      }
    },
    {
      "cell_type": "markdown",
      "source": [
        "# **Problem 0: Moving the lab to your folder**\n",
        "\n",
        "Duplicate this notebook (as you won't have write permission to this) to your Google Drive. \n",
        "This can be done by clicking on *File Menu - Save a copy in Drive*"
      ],
      "metadata": {
        "id": "5X6v_biRvodF"
      }
    },
    {
      "cell_type": "markdown",
      "source": [
        "Run to mount your google drives:"
      ],
      "metadata": {
        "id": "w1sNkFG_vCDw"
      }
    },
    {
      "cell_type": "code",
      "source": [
        "from google.colab import drive\n",
        "drive.mount('/content/drive')"
      ],
      "metadata": {
        "colab": {
          "base_uri": "https://localhost:8080/"
        },
        "id": "4xJPY5hUvaPe",
        "outputId": "7fdf8dc7-889b-4433-bd0f-870685eef603"
      },
      "execution_count": null,
      "outputs": [
        {
          "output_type": "stream",
          "name": "stdout",
          "text": [
            "Mounted at /content/drive\n"
          ]
        }
      ]
    },
    {
      "cell_type": "markdown",
      "source": [
        "Your drive would be accessed as '/content/drive/MyDrive' for Colab. We suggest putting your data and creating a 'results' folder somewhere in the drive. The 'results' folder could be used for storing the required outputs.   "
      ],
      "metadata": {
        "id": "4oIwcVqmw7R9"
      }
    },
    {
      "cell_type": "code",
      "source": [
        "# example goes like:\n",
        "DataPath  = '/content/drive/MyDrive/YOUR_PATH_HERE'\n",
        "ResultPath = '/content/drive/MyDrive/YOUR_PATH_HERE/results'"
      ],
      "metadata": {
        "id": "iFFiAi4iyG2f"
      },
      "execution_count": null,
      "outputs": []
    },
    {
      "cell_type": "markdown",
      "source": [
        "Then, load all the imports you plan to use later; \n",
        "just do not use those built-in functions which directly solve the problem. \n",
        "\n",
        "For example, you need to write GMM algorithms based on EM by yourself. If you are not sure whether the ones you want to import meet the requirement, you are always welcome to send us an email as usual."
      ],
      "metadata": {
        "id": "4iiTlOpxvv2P"
      }
    },
    {
      "cell_type": "code",
      "source": [
        "# add the package here. Again do not use those built-in functions which directly\n",
        "# solve the problem. If you are not sure whether the ones you want to import \n",
        "# meet the requirement, you are always welcome to send us an email as usual.\n",
        "\n",
        "import numpy as np\n",
        "import os\n",
        "import math\n",
        "import random\n",
        "from scipy.stats import multivariate_normal\n",
        "\n",
        "\n"
      ],
      "metadata": {
        "id": "gjMTbuT2uUl9"
      },
      "execution_count": null,
      "outputs": []
    },
    {
      "cell_type": "markdown",
      "source": [
        "# **Problem 1: Overcomplete sparse presentation**\n",
        "\n"
      ],
      "metadata": {
        "id": "ZvQ-DkSAObYH"
      }
    },
    {
      "cell_type": "markdown",
      "source": [
        "## I) Write the code that applies LDA and cosine scoring to the I-vectors provided in /data/."
      ],
      "metadata": {
        "id": "B0REi1QH43tt"
      }
    },
    {
      "cell_type": "code",
      "source": [],
      "metadata": {
        "id": "H8tqXiB-5hGM"
      },
      "execution_count": null,
      "outputs": []
    },
    {
      "cell_type": "code",
      "source": [],
      "metadata": {
        "id": "noDaIHua5hM2"
      },
      "execution_count": null,
      "outputs": []
    },
    {
      "cell_type": "markdown",
      "source": [
        "## II) Write the code that classifier the I-vector   based on overcomplete space representation\n"
      ],
      "metadata": {
        "id": "5A5JlWVu43yJ"
      }
    },
    {
      "cell_type": "code",
      "source": [],
      "metadata": {
        "id": "ytkeBjT25nSZ"
      },
      "execution_count": null,
      "outputs": []
    },
    {
      "cell_type": "code",
      "source": [],
      "metadata": {
        "id": "EjzjAzho5nWY"
      },
      "execution_count": null,
      "outputs": []
    },
    {
      "cell_type": "markdown",
      "source": [
        "## III) In this question, please redo the same process as question (I) after projecting first all the I-vectors by LDA, which was trained in question (I). Evaluate again the recognition accuracy rates for both Dev and Eval directories? If both accuracies are better than question (II), explain why?"
      ],
      "metadata": {
        "id": "rxhirYEG431y"
      }
    },
    {
      "cell_type": "code",
      "source": [],
      "metadata": {
        "id": "e7ssXO_w56PQ"
      },
      "execution_count": null,
      "outputs": []
    },
    {
      "cell_type": "code",
      "source": [],
      "metadata": {
        "id": "zz7K3wTu56UZ"
      },
      "execution_count": null,
      "outputs": []
    },
    {
      "cell_type": "code",
      "source": [],
      "metadata": {
        "id": "OPklsexK56Xx"
      },
      "execution_count": null,
      "outputs": []
    },
    {
      "cell_type": "markdown",
      "source": [
        "## IV) To speed up the process, train a code book using k-means for each language class with k=55. Each language will be only represented by 55 centroids. The classes that have already 55 I-vectors take all of them (do not apply kmeans). For kmeans implementation used the function already predefines in Matlab. Apply the overcomplete space representation classification again. Similar to question III use the after projecting first all of them by LDA"
      ],
      "metadata": {
        "id": "Sxg7_w0a6ROY"
      }
    },
    {
      "cell_type": "code",
      "source": [],
      "metadata": {
        "id": "iMRLXCkX6RaD"
      },
      "execution_count": null,
      "outputs": []
    },
    {
      "cell_type": "code",
      "source": [],
      "metadata": {
        "id": "JCdzjCFZ6Rcy"
      },
      "execution_count": null,
      "outputs": []
    },
    {
      "cell_type": "code",
      "source": [],
      "metadata": {
        "id": "p9hrrldQ6Rfy"
      },
      "execution_count": null,
      "outputs": []
    },
    {
      "cell_type": "code",
      "source": [],
      "metadata": {
        "id": "KvPnRi8e6RmX"
      },
      "execution_count": null,
      "outputs": []
    },
    {
      "cell_type": "markdown",
      "source": [
        "## V) Apply Gaussian classifier as it will be seen in the class for this task with the assumption of equal prior for all the language classes and shared covariance between all the classes. In this part use the original I-vector of dimension 600. Compare your results with previous ones."
      ],
      "metadata": {
        "id": "iFzU5Pw67UFt"
      }
    },
    {
      "cell_type": "code",
      "source": [],
      "metadata": {
        "id": "ZDcS022T7Xm6"
      },
      "execution_count": null,
      "outputs": []
    },
    {
      "cell_type": "code",
      "source": [],
      "metadata": {
        "id": "kGG2WBMf7Xqx"
      },
      "execution_count": null,
      "outputs": []
    },
    {
      "cell_type": "code",
      "source": [],
      "metadata": {
        "id": "Ht_iWd2v90sW"
      },
      "execution_count": null,
      "outputs": []
    },
    {
      "cell_type": "markdown",
      "source": [
        "**You are ready to submit in Canvas!**\n",
        "\n",
        "4 easy steps to submit your lab:\n",
        "\n",
        "1.   Go to \"File\" - \"Download .ipynb\"\n",
        "2.   Click on \"Share\" option on top right - Click on \"copy link\" option. Make sure your permission is set to \"Anyone on the internet with this link can view\"\n",
        "3.   Upload the \".ipynb\" file obtained from Step (1) as instructed in the homework document. If it is too big, zip it before uploading.\n",
        "4.   In the text comments on Canvas, paste the link obtained from Step (3).\n",
        "\n",
        "That's it!\n",
        "\n",
        "In short, we want to have one link, one .ipynb and one 'HW4_yourJHID.zip' containing all the required outputs.\n",
        "\n",
        "Please suffix your colab file and the zip file with your _jhID, eg: HW4_myjhID12\n"
      ],
      "metadata": {
        "id": "a4beYyaeCvvP"
      }
    }
  ]
}